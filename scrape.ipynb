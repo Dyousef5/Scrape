{
 "cells": [
  {
   "cell_type": "markdown",
   "metadata": {},
   "source": [
    "Import libraries "
   ]
  },
  {
   "cell_type": "code",
   "execution_count": 1,
   "metadata": {},
   "outputs": [],
   "source": [
    "import requests\n",
    "from bs4 import BeautifulSoup\n",
    "import time"
   ]
  },
  {
   "cell_type": "markdown",
   "metadata": {},
   "source": [
    "Implementation \n"
   ]
  },
  {
   "cell_type": "code",
   "execution_count": 2,
   "metadata": {},
   "outputs": [],
   "source": [
    "def scrape_twitter_account(account_url, stock_symbol):\n",
    "    try:\n",
    "        response = requests.get(account_url)\n",
    "        soup = BeautifulSoup(response.content, 'html.parser')\n",
    "        # tweets = soup.find_all('div',class_='css-175oi2r')\n",
    "        tweets= soup.find_all('div', { 'class': 'css-175oi2r'})\n",
    "\n",
    "        count = 0\n",
    "        for tweet in tweets:\n",
    "            tweet_text = tweet.find('div',{'class': 'css-1rynq56 r-8akbws r-krxsd3 r-dnmrzs r-1udh08x r-bcqeeo r-qvutc0 r-37j5jr r-a023e6 r-rjixqe r-16dba41 r-bnwqim'}).text\n",
    "            if stock_symbol in tweet_text:\n",
    "                count += 1\n",
    "        \n",
    "        return count\n",
    "    except Exception as e:\n",
    "        print(f\"Error scraping {account_url}: {str(e)}\")\n",
    "        return 0"
   ]
  },
  {
   "cell_type": "code",
   "execution_count": 3,
   "metadata": {},
   "outputs": [
    {
     "name": "stdout",
     "output_type": "stream",
     "text": [
      "$TSLA was mentioned 0 times in the last 1 minutes.\n",
      "$TSLA was mentioned 0 times in the last 1 minutes.\n"
     ]
    },
    {
     "ename": "",
     "evalue": "",
     "output_type": "error",
     "traceback": [
      "\u001b[1;31mThe Kernel crashed while executing code in the current cell or a previous cell. \n",
      "\u001b[1;31mPlease review the code in the cell(s) to identify a possible cause of the failure. \n",
      "\u001b[1;31mClick <a href='https://aka.ms/vscodeJupyterKernelCrash'>here</a> for more info. \n",
      "\u001b[1;31mView Jupyter <a href='command:jupyter.viewOutput'>log</a> for further details."
     ]
    }
   ],
   "source": [
    "def main():\n",
    "    twitter_accounts = [\n",
    "        \n",
    "        \"https://twitter.com/Mr_Derivatives\",\n",
    "        \"https://twitter.com/warrior_0719\",\n",
    "        \"https://twitter.com/ChartingProdigy\",\n",
    "        \"https://twitter.com/allstarcharts\",\n",
    "        \"https://twitter.com/yuriymatso\",\n",
    "        \"https://twitter.com/TriggerTrades\",\n",
    "        \"https://twitter.com/AdamMancini4\",\n",
    "        \"https://twitter.com/CordovaTrades\",\n",
    "        \"https://twitter.com/Barchart\",\n",
    "        \"https://twitter.com/RoyLMattox\"\n",
    "    ]\n",
    "\n",
    "    stock_symbol = \"$TSLA\"  # Change this to the desired stock symbol\n",
    "    interval_minutes = 15  # Change this to the desired time interval in minutes\n",
    "\n",
    "    while True:\n",
    "        total_mentions = 0\n",
    "        for account_url in twitter_accounts:\n",
    "            mentions = scrape_twitter_account(account_url, stock_symbol)\n",
    "            total_mentions += mentions\n",
    "        \n",
    "        print(f\"{stock_symbol} was mentioned {total_mentions} times in the last {interval_minutes} minutes.\")\n",
    "        time.sleep(interval_minutes * 60)  # Convert minutes to seconds\n",
    "\n",
    "if __name__ == \"__main__\":\n",
    "    main()"
   ]
  }
 ],
 "metadata": {
  "kernelspec": {
   "display_name": "Python 3",
   "language": "python",
   "name": "python3"
  },
  "language_info": {
   "codemirror_mode": {
    "name": "ipython",
    "version": 3
   },
   "file_extension": ".py",
   "mimetype": "text/x-python",
   "name": "python",
   "nbconvert_exporter": "python",
   "pygments_lexer": "ipython3",
   "version": "3.11.2"
  }
 },
 "nbformat": 4,
 "nbformat_minor": 2
}
